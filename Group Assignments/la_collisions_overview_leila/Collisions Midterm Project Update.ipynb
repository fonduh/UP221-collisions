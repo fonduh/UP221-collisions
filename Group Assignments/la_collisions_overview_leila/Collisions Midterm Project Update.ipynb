{
 "cells": [
  {
   "cell_type": "code",
   "execution_count": null,
   "id": "68612bb3-a530-48bc-bff9-008960b67beb",
   "metadata": {},
   "outputs": [],
   "source": [
    "# Research Question: We want to have a broader understanding of traffic collisions in the City of LA. \n",
    "# In the City of Los Angeles, what do the traffic collisions look like in 2020, and how do they compare to 2010? \n",
    "# With this project, we hope to understand the demographics and conditions of neighborhoods in Los Angeles with a particular focus on infrastructure, \n",
    "# like road safety and signs.\n",
    "\n",
    "\n",
    "# Other things we are thinking about: \n",
    "# - Materials of road\n",
    "# - Commute time\n",
    "# - Time of day of collision\n",
    "# - Comparing areas and regions within greater Los Angeles \n",
    "# - Substance Abuse\n",
    "# - MO Codes\n",
    "# - Demographic characteristics of dataset\n",
    "\n",
    "# An explanation of why it is important to you, why it matters to others, and what is at stake:\n",
    "# We care about this research question because as burgeoning urban planners who go to school in West LA, \n",
    "# traffic collisions in West LA are both specific instances and a specific geography that we think about frequently. \n",
    "# Traffic collisions are a symptom of larger problems including a city’s overreliance on cars and car infrastructure, \n",
    "# and poor and unsafe pedestrian infrastructure. Vehicle traffic collisions are one of the leading causes of unintentional \n",
    "# injuries in the United States. We hypothesize that vehicle traffic collisions are not equal across racial and socioeconomic demographics.\n",
    "\n",
    "# This research question is vital to address because it can help us as planners, to make informed decisions about improving road layouts such as signs,\n",
    "# traffic flow, and road safety to ensure the well being of residents, commuters, and pedestrians. At stake is not only the lives of LA residents, commuters, \n",
    "# tourists but also the economic losses through the health sector and insurance claims.\n",
    "\n",
    "# Spatial Scope: We are looking at the City of LA\n",
    "\n",
    "# Data Sources we will be using: \n",
    "# LACounty Data Portal. Traffic Collisions in LA from 2020 and 2010\n",
    "\n",
    "# Archived Data Sources: \n",
    "# West LA Traffic Collisions by Year: https://data.lacity.org/Public-Safety/West-Los-Angeles-Traffic-Collisions-By-Year/n4ru-wwzt \n",
    "# Temporal - Traffic Collisions 2014-2019 for all of LA: https://www.arcgis.com/home/item.html?id=66d96f15d4e14e039caa6134e6eab8e5#data \n",
    "# Traffic Fatalities (non-geolocated) for LA: victim_los_angeles_2014_2019 | victim_los_angeles_2014_2019 | City of Los Angeles Hub (lacity.org) \n",
    "# Weather: TBD Collision data (includes cause of accident) from the NHTSA: https://www.nhtsa.gov/file-downloads?p=nhtsa/downloads/FARS/2014/National/ \n",
    "\n",
    "# Scope: We are exploring demographic characteristics, alcohol usage, materials of roads, the time of day that a collision happens, \n",
    "# what the specific characteristics of the crash is (MO Codes), and comparing different regions within the LA area. \n",
    "\n",
    "# Insights: We have analyzed some of the demographic characteristics, alcohol usage, materials, and time of day. \n",
    "# We are working to gain more of an insight on these issues, and are putting together team members work to look at a broader, \n",
    "# more descriptive picture of Los Angeles Traffic Collisions. \n",
    "\n"
   ]
  }
 ],
 "metadata": {
  "kernelspec": {
   "display_name": "Python 3 (ipykernel)",
   "language": "python",
   "name": "python3"
  },
  "language_info": {
   "codemirror_mode": {
    "name": "ipython",
    "version": 3
   },
   "file_extension": ".py",
   "mimetype": "text/x-python",
   "name": "python",
   "nbconvert_exporter": "python",
   "pygments_lexer": "ipython3",
   "version": "3.11.7"
  }
 },
 "nbformat": 4,
 "nbformat_minor": 5
}
